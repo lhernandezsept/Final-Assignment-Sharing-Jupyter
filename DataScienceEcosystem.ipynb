{
 "cells": [
  {
   "cell_type": "markdown",
   "id": "492f7f62-5a37-4d31-8d5c-c1e3b9918e18",
   "metadata": {},
   "source": [
    "# Data Science Tools and Ecosystems "
   ]
  },
  {
   "cell_type": "markdown",
   "id": "f91799bc-c86a-451e-8a7b-396a55616a32",
   "metadata": {},
   "source": [
    "In this notebook, Data Science Tools and Ecosystem are summarized.\n"
   ]
  },
  {
   "cell_type": "markdown",
   "id": "2472896b-9f99-4b5e-9437-98d0902a2ccf",
   "metadata": {},
   "source": [
    "__Objectives:__ \n",
    "\n",
    "* List popular languages for Data Science\n",
    "* List commonly used libraries\n",
    "* Names of Open Source Tools in Data Science\n",
    "* Simple Mathematical operations "
   ]
  },
  {
   "cell_type": "markdown",
   "id": "ee764cae-98f6-4d4f-a1e8-86bea3bce65b",
   "metadata": {},
   "source": [
    "Some of the popular languages that Data Scientists use are:\n",
    "\n",
    "1. Python\n",
    "2. R\n",
    "3. SQL"
   ]
  },
  {
   "cell_type": "markdown",
   "id": "3cbeb0c2-e2b6-42d1-9b23-7504004ec851",
   "metadata": {},
   "source": [
    "Some of the commonly used libraries used by Data Scientists include:\n",
    "\n",
    "1. Pandas\n",
    "2. NumPy\n",
    "3. TensorFlow"
   ]
  },
  {
   "cell_type": "markdown",
   "id": "38bc0b46-15c7-4e4f-ab8a-9cbd87f24200",
   "metadata": {},
   "source": [
    "|Data Science Tools|\n",
    "|--------------|\n",
    "|Git|\n",
    "|Scikit-learn|\n",
    "|TensorFlow|\n",
    " "
   ]
  },
  {
   "cell_type": "markdown",
   "id": "eb7eced3-f2b8-47fd-a7dc-ad64d8218b3a",
   "metadata": {},
   "source": [
    "### Below are a few examples of evaluating arithmetic expressions in Python\n",
    "\n"
   ]
  },
  {
   "cell_type": "code",
   "execution_count": 35,
   "id": "8fb7a3fe-3016-4bea-8438-a61ecba8db52",
   "metadata": {},
   "outputs": [
    {
     "data": {
      "text/plain": [
       "17"
      ]
     },
     "execution_count": 35,
     "metadata": {},
     "output_type": "execute_result"
    }
   ],
   "source": [
    "#This a simple arithmetic expression to mutiply then add integers\n",
    "\n",
    "(3*4)+5"
   ]
  },
  {
   "cell_type": "code",
   "execution_count": 37,
   "id": "bd6c2271-2177-48ce-9902-ccdeea990352",
   "metadata": {},
   "outputs": [
    {
     "data": {
      "text/plain": [
       "3.3333333333333335"
      ]
     },
     "execution_count": 37,
     "metadata": {},
     "output_type": "execute_result"
    }
   ],
   "source": [
    "#This will convert 200 minutes to hours by diving by 60\n",
    "\n",
    "(200/60)\n"
   ]
  },
  {
   "cell_type": "markdown",
   "id": "1c9160ea-5996-4196-9e55-935dc2c5d354",
   "metadata": {},
   "source": [
    "## Author\n",
    "Lisbeth Hernandez"
   ]
  }
 ],
 "metadata": {
  "kernelspec": {
   "display_name": "Python [conda env:base] *",
   "language": "python",
   "name": "conda-base-py"
  },
  "language_info": {
   "codemirror_mode": {
    "name": "ipython",
    "version": 3
   },
   "file_extension": ".py",
   "mimetype": "text/x-python",
   "name": "python",
   "nbconvert_exporter": "python",
   "pygments_lexer": "ipython3",
   "version": "3.12.7"
  }
 },
 "nbformat": 4,
 "nbformat_minor": 5
}
